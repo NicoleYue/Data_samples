{
 "cells": [
  {
   "cell_type": "code",
   "execution_count": 1,
   "metadata": {
    "collapsed": false,
    "deletable": true,
    "editable": true
   },
   "outputs": [
    {
     "name": "stdout",
     "output_type": "stream",
     "text": [
      "Populating the interactive namespace from numpy and matplotlib\n"
     ]
    }
   ],
   "source": [
    "from pandas import Series, DataFrame\n",
    "import pandas as pd\n",
    "%pylab inline"
   ]
  },
  {
   "cell_type": "code",
   "execution_count": 2,
   "metadata": {
    "collapsed": true,
    "deletable": true,
    "editable": true
   },
   "outputs": [],
   "source": [
    "questions = pd.read_csv('Questions.csv')\n",
    "answers = pd.read_csv('Answers.csv')"
   ]
  },
  {
   "cell_type": "code",
   "execution_count": 3,
   "metadata": {
    "collapsed": false,
    "deletable": true,
    "editable": true
   },
   "outputs": [
    {
     "data": {
      "text/plain": [
       "array(['Id', 'PostTypeId', 'AcceptedAnswerId', 'CreationDate', 'Score',\n",
       "       'ViewCount', 'Body', 'OwnerUserId', 'OwnerDisplayName',\n",
       "       'LastEditorUserId', 'LastEditDate', 'LastActivityDate', 'Title',\n",
       "       'Tags', 'AnswerCount', 'CommentCount', 'FavoriteCount', 'ClosedDate'], dtype=object)"
      ]
     },
     "execution_count": 3,
     "metadata": {},
     "output_type": "execute_result"
    }
   ],
   "source": [
    "questions.columns.values"
   ]
  },
  {
   "cell_type": "code",
   "execution_count": 4,
   "metadata": {
    "collapsed": false,
    "deletable": true,
    "editable": true
   },
   "outputs": [
    {
     "data": {
      "text/plain": [
       "array(['Id', 'PostTypeId', 'ParentId', 'CreationDate', 'Score', 'Body',\n",
       "       'OwnerUserId', 'OwnerDisplayName', 'LastEditorUserId',\n",
       "       'LastEditorDisplayName', 'LastEditDate', 'LastActivityDate',\n",
       "       'CommentCount'], dtype=object)"
      ]
     },
     "execution_count": 4,
     "metadata": {},
     "output_type": "execute_result"
    }
   ],
   "source": [
    "answers.columns.values"
   ]
  },
  {
   "cell_type": "markdown",
   "metadata": {
    "deletable": true,
    "editable": true
   },
   "source": [
    "### Combine questions and their *accepted* answers into one DataFrame\n",
    "\n",
    "The questions table has an AcceptedAnswerId column, and the answers table has an Id column."
   ]
  },
  {
   "cell_type": "code",
   "execution_count": 5,
   "metadata": {
    "collapsed": false,
    "deletable": true,
    "editable": true
   },
   "outputs": [],
   "source": [
    "QA = questions.merge(answers,\n",
    "                     left_on = 'AcceptedAnswerId',\n",
    "                     right_on = 'Id',\n",
    "                     suffixes = ['_questions','_answers'])"
   ]
  },
  {
   "cell_type": "markdown",
   "metadata": {
    "deletable": true,
    "editable": true
   },
   "source": [
    "### How many questions don't have a valid accepted answer?"
   ]
  },
  {
   "cell_type": "code",
   "execution_count": 7,
   "metadata": {
    "collapsed": false,
    "deletable": true,
    "editable": true
   },
   "outputs": [
    {
     "data": {
      "text/plain": [
       "296"
      ]
     },
     "execution_count": 7,
     "metadata": {},
     "output_type": "execute_result"
    }
   ],
   "source": [
    "#solution 1\n",
    "len(questions) - len(questions[questions['AcceptedAnswerId'].notnull()])\n",
    "#solution 2\n",
    "len(questions) - len(QA)\n",
    "#solution 3\n",
    "len(questions[questions['AcceptedAnswerId'].isnull()])"
   ]
  },
  {
   "cell_type": "markdown",
   "metadata": {
    "deletable": true,
    "editable": true
   },
   "source": [
    "### How many times did a question asker answer his/her own question? (!)"
   ]
  },
  {
   "cell_type": "code",
   "execution_count": 12,
   "metadata": {
    "collapsed": false
   },
   "outputs": [
    {
     "data": {
      "text/plain": [
       "array(['Id_q', 'PostTypeId_q', 'AcceptedAnswerId', 'CreationDate_q',\n",
       "       'Score_q', 'ViewCount', 'Body_q', 'OwnerUserId_q',\n",
       "       'OwnerDisplayName_q', 'LastEditorUserId_q', 'LastEditDate_q',\n",
       "       'LastActivityDate_q', 'Title', 'Tags', 'AnswerCount',\n",
       "       'CommentCount_q', 'FavoriteCount', 'ClosedDate', 'Id_a',\n",
       "       'PostTypeId_a', 'ParentId', 'CreationDate_a', 'Score_a', 'Body_a',\n",
       "       'OwnerUserId_a', 'OwnerDisplayName_a', 'LastEditorUserId_a',\n",
       "       'LastEditorDisplayName', 'LastEditDate_a', 'LastActivityDate_a',\n",
       "       'CommentCount_a'], dtype=object)"
      ]
     },
     "execution_count": 12,
     "metadata": {},
     "output_type": "execute_result"
    }
   ],
   "source": [
    "QA.columns.values"
   ]
  },
  {
   "cell_type": "code",
   "execution_count": 7,
   "metadata": {
    "collapsed": false,
    "deletable": true,
    "editable": true
   },
   "outputs": [
    {
     "data": {
      "text/plain": [
       "31"
      ]
     },
     "execution_count": 7,
     "metadata": {},
     "output_type": "execute_result"
    }
   ],
   "source": [
    "len(QA[QA['OwnerUserId_questions'] == QA['OwnerUserId_answers']])"
   ]
  },
  {
   "cell_type": "markdown",
   "metadata": {
    "deletable": true,
    "editable": true
   },
   "source": [
    "### Among questions, does increasing ViewCount and increasing AnswerCount correlate with higher Score?\n",
    "\n",
    "* Split ViewCount into 4 equal-sized groups named \"Low\", \"Medium\", \"High\", and \"Very high\"\n",
    "* Create a new column in questions called ViewCountQuartile containing the ViewCount group for each question\n",
    "    * For example, the first question has ViewCount 74 and ViewCountQuartile \"Medium\"\n",
    "* Split the questions by ViewCountQuartile and AnswerCount, and compute the average Score of questions that fall into each (ViewCountQuartile, AnswerCount) bucket.\n",
    "    * For example, questions that have ViewCountQuartile=\"View High\" and AnswerCount=7.0 have an average Score of 10.0\n",
    "* Visually check if increasing ViewCount and increasing AnswerCount are related to higher average Scores."
   ]
  },
  {
   "cell_type": "code",
   "execution_count": 27,
   "metadata": {
    "collapsed": false
   },
   "outputs": [
    {
     "data": {
      "text/html": [
       "<div>\n",
       "<style>\n",
       "    .dataframe thead tr:only-child th {\n",
       "        text-align: right;\n",
       "    }\n",
       "\n",
       "    .dataframe thead th {\n",
       "        text-align: left;\n",
       "    }\n",
       "\n",
       "    .dataframe tbody tr th {\n",
       "        vertical-align: top;\n",
       "    }\n",
       "</style>\n",
       "<table border=\"1\" class=\"dataframe\">\n",
       "  <thead>\n",
       "    <tr style=\"text-align: right;\">\n",
       "      <th>AnswerCount</th>\n",
       "      <th>0.0</th>\n",
       "      <th>1.0</th>\n",
       "      <th>2.0</th>\n",
       "      <th>3.0</th>\n",
       "      <th>4.0</th>\n",
       "      <th>5.0</th>\n",
       "      <th>6.0</th>\n",
       "      <th>7.0</th>\n",
       "    </tr>\n",
       "    <tr>\n",
       "      <th>ViewCountQuartile</th>\n",
       "      <th></th>\n",
       "      <th></th>\n",
       "      <th></th>\n",
       "      <th></th>\n",
       "      <th></th>\n",
       "      <th></th>\n",
       "      <th></th>\n",
       "      <th></th>\n",
       "    </tr>\n",
       "  </thead>\n",
       "  <tbody>\n",
       "    <tr>\n",
       "      <th>Low</th>\n",
       "      <td>NaN</td>\n",
       "      <td>1.006536</td>\n",
       "      <td>1.255319</td>\n",
       "      <td>0.500000</td>\n",
       "      <td>NaN</td>\n",
       "      <td>NaN</td>\n",
       "      <td>NaN</td>\n",
       "      <td>NaN</td>\n",
       "    </tr>\n",
       "    <tr>\n",
       "      <th>Medium</th>\n",
       "      <td>0.0</td>\n",
       "      <td>1.298701</td>\n",
       "      <td>1.383333</td>\n",
       "      <td>1.533333</td>\n",
       "      <td>1.500000</td>\n",
       "      <td>NaN</td>\n",
       "      <td>NaN</td>\n",
       "      <td>NaN</td>\n",
       "    </tr>\n",
       "    <tr>\n",
       "      <th>High</th>\n",
       "      <td>NaN</td>\n",
       "      <td>1.482270</td>\n",
       "      <td>1.205882</td>\n",
       "      <td>1.571429</td>\n",
       "      <td>1.000000</td>\n",
       "      <td>1.5</td>\n",
       "      <td>NaN</td>\n",
       "      <td>NaN</td>\n",
       "    </tr>\n",
       "    <tr>\n",
       "      <th>Very high</th>\n",
       "      <td>NaN</td>\n",
       "      <td>2.366412</td>\n",
       "      <td>2.805556</td>\n",
       "      <td>4.400000</td>\n",
       "      <td>4.818182</td>\n",
       "      <td>3.0</td>\n",
       "      <td>4.0</td>\n",
       "      <td>10.0</td>\n",
       "    </tr>\n",
       "  </tbody>\n",
       "</table>\n",
       "</div>"
      ],
      "text/plain": [
       "AnswerCount        0.0       1.0       2.0       3.0       4.0  5.0  6.0   7.0\n",
       "ViewCountQuartile                                                             \n",
       "Low                NaN  1.006536  1.255319  0.500000       NaN  NaN  NaN   NaN\n",
       "Medium             0.0  1.298701  1.383333  1.533333  1.500000  NaN  NaN   NaN\n",
       "High               NaN  1.482270  1.205882  1.571429  1.000000  1.5  NaN   NaN\n",
       "Very high          NaN  2.366412  2.805556  4.400000  4.818182  3.0  4.0  10.0"
      ]
     },
     "execution_count": 27,
     "metadata": {},
     "output_type": "execute_result"
    }
   ],
   "source": [
    "group = pd.qcut(questions['ViewCount'],4,labels=[\"Low\", \"Medium\", \"High\", \"Very high\"])\n",
    "questions['ViewCountQuartile'] = group\n",
    "pv = pd.pivot_table(questions,\n",
    "                   index='ViewCountQuartile',\n",
    "                   columns='AnswerCount',\n",
    "                   values='Score',\n",
    "                   aggfunc=mean)\n",
    "pv"
   ]
  },
  {
   "cell_type": "code",
   "execution_count": 22,
   "metadata": {
    "collapsed": false,
    "deletable": true,
    "editable": true
   },
   "outputs": [],
   "source": [
    "# Split ViewCount into 4 equal-sized groups named \"Low\", \"Medium\", \"High\", and \"Very high\"\n",
    "#solution 1\n",
    "ViewCount_rank = questions['ViewCount'].rank(ascending=True) #从低到高\n",
    "ViewCount_group = pd.qcut(ViewCount_rank,\n",
    "                         4,\n",
    "                         labels=[\"Low\", \"Medium\", \"High\", \"Very high\"])\n",
    "#solution 2\n",
    "ViewCount_group = pd.qcut(questions['ViewCount'],\n",
    "                         4,\n",
    "                         labels=[\"Low\", \"Medium\", \"High\", \"Very high\"])\n",
    "#ViewCount_rank[:5]\n",
    "#ViewCount_group[:5]"
   ]
  },
  {
   "cell_type": "code",
   "execution_count": 23,
   "metadata": {
    "collapsed": false,
    "deletable": true,
    "editable": true
   },
   "outputs": [],
   "source": [
    "#Create a new column in questions called ViewCountQuartile containing the ViewCount group for each question\n",
    "questions['ViewCountQuartile'] = ViewCount_group\n",
    "#Get the top 10 rows\n",
    "#questions[['ViewCount','ViewCountQuartile']][:10]"
   ]
  },
  {
   "cell_type": "code",
   "execution_count": 24,
   "metadata": {
    "collapsed": false,
    "deletable": true,
    "editable": true
   },
   "outputs": [
    {
     "data": {
      "text/html": [
       "<div>\n",
       "<style>\n",
       "    .dataframe thead tr:only-child th {\n",
       "        text-align: right;\n",
       "    }\n",
       "\n",
       "    .dataframe thead th {\n",
       "        text-align: left;\n",
       "    }\n",
       "\n",
       "    .dataframe tbody tr th {\n",
       "        vertical-align: top;\n",
       "    }\n",
       "</style>\n",
       "<table border=\"1\" class=\"dataframe\">\n",
       "  <thead>\n",
       "    <tr style=\"text-align: right;\">\n",
       "      <th>AnswerCount</th>\n",
       "      <th>0.0</th>\n",
       "      <th>1.0</th>\n",
       "      <th>2.0</th>\n",
       "      <th>3.0</th>\n",
       "      <th>4.0</th>\n",
       "      <th>5.0</th>\n",
       "      <th>6.0</th>\n",
       "      <th>7.0</th>\n",
       "    </tr>\n",
       "    <tr>\n",
       "      <th>ViewCountQuartile</th>\n",
       "      <th></th>\n",
       "      <th></th>\n",
       "      <th></th>\n",
       "      <th></th>\n",
       "      <th></th>\n",
       "      <th></th>\n",
       "      <th></th>\n",
       "      <th></th>\n",
       "    </tr>\n",
       "  </thead>\n",
       "  <tbody>\n",
       "    <tr>\n",
       "      <th>Low</th>\n",
       "      <td>NaN</td>\n",
       "      <td>1.006536</td>\n",
       "      <td>1.255319</td>\n",
       "      <td>0.500000</td>\n",
       "      <td>NaN</td>\n",
       "      <td>NaN</td>\n",
       "      <td>NaN</td>\n",
       "      <td>NaN</td>\n",
       "    </tr>\n",
       "    <tr>\n",
       "      <th>Medium</th>\n",
       "      <td>0.0</td>\n",
       "      <td>1.298701</td>\n",
       "      <td>1.383333</td>\n",
       "      <td>1.533333</td>\n",
       "      <td>1.500000</td>\n",
       "      <td>NaN</td>\n",
       "      <td>NaN</td>\n",
       "      <td>NaN</td>\n",
       "    </tr>\n",
       "    <tr>\n",
       "      <th>High</th>\n",
       "      <td>NaN</td>\n",
       "      <td>1.482270</td>\n",
       "      <td>1.205882</td>\n",
       "      <td>1.571429</td>\n",
       "      <td>1.000000</td>\n",
       "      <td>1.5</td>\n",
       "      <td>NaN</td>\n",
       "      <td>NaN</td>\n",
       "    </tr>\n",
       "    <tr>\n",
       "      <th>Very high</th>\n",
       "      <td>NaN</td>\n",
       "      <td>2.366412</td>\n",
       "      <td>2.805556</td>\n",
       "      <td>4.400000</td>\n",
       "      <td>4.818182</td>\n",
       "      <td>3.0</td>\n",
       "      <td>4.0</td>\n",
       "      <td>10.0</td>\n",
       "    </tr>\n",
       "  </tbody>\n",
       "</table>\n",
       "</div>"
      ],
      "text/plain": [
       "AnswerCount        0.0       1.0       2.0       3.0       4.0  5.0  6.0   7.0\n",
       "ViewCountQuartile                                                             \n",
       "Low                NaN  1.006536  1.255319  0.500000       NaN  NaN  NaN   NaN\n",
       "Medium             0.0  1.298701  1.383333  1.533333  1.500000  NaN  NaN   NaN\n",
       "High               NaN  1.482270  1.205882  1.571429  1.000000  1.5  NaN   NaN\n",
       "Very high          NaN  2.366412  2.805556  4.400000  4.818182  3.0  4.0  10.0"
      ]
     },
     "execution_count": 24,
     "metadata": {},
     "output_type": "execute_result"
    }
   ],
   "source": [
    "#Split the questions by ViewCountQuartile and AnswerCount, \n",
    "#and compute the average Score of questions that fall into each (ViewCountQuartile, AnswerCount) bucket.\n",
    "pd.pivot_table(questions,\n",
    "               index='ViewCountQuartile',\n",
    "               columns='AnswerCount',\n",
    "               values='Score',\n",
    "               aggfunc=mean)"
   ]
  },
  {
   "cell_type": "markdown",
   "metadata": {
    "deletable": true,
    "editable": true
   },
   "source": [
    "### Generate a plot like the one below\n",
    "\n",
    "![Num words in question title](NumWords.png)\n",
    "\n",
    "(Note: Consider *all* questions, not just the ones with a valid AcceptedAnswerId.)"
   ]
  },
  {
   "cell_type": "code",
   "execution_count": 50,
   "metadata": {
    "collapsed": false,
    "deletable": true,
    "editable": true
   },
   "outputs": [
    {
     "data": {
      "text/plain": [
       "<matplotlib.text.Text at 0xc2e0da0>"
      ]
     },
     "execution_count": 50,
     "metadata": {},
     "output_type": "execute_result"
    },
    {
     "data": {
      "image/png": "[encoded data removed]",
      "text/plain": [
       "<matplotlib.figure.Figure at 0xc2fa9b0>"
      ]
     },
     "metadata": {},
     "output_type": "display_data"
    }
   ],
   "source": [
    "def func(x):\n",
    "    return len(x.split(' '))\n",
    "questions['Title'].map(func).value_counts().plot(kind='bar')\n",
    "ylabel('Number of questions')\n",
    "xlabel('Number of words in question title')"
   ]
  }
 ],
 "metadata": {
  "kernelspec": {
   "display_name": "Python 2",
   "language": "python",
   "name": "python2"
  },
  "language_info": {
   "codemirror_mode": {
    "name": "ipython",
    "version": 2
   },
   "file_extension": ".py",
   "mimetype": "text/x-python",
   "name": "python",
   "nbconvert_exporter": "python",
   "pygments_lexer": "ipython2",
   "version": "2.7.13"
  }
 },
 "nbformat": 4,
 "nbformat_minor": 2
}
