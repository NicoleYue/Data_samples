{
 "cells": [
  {
   "cell_type": "code",
   "execution_count": 1,
   "metadata": {
    "collapsed": false,
    "deletable": true,
    "editable": true
   },
   "outputs": [
    {
     "name": "stdout",
     "output_type": "stream",
     "text": [
      "Populating the interactive namespace from numpy and matplotlib\n"
     ]
    }
   ],
   "source": [
    "from pandas import Series, DataFrame\n",
    "import pandas as pd\n",
    "%pylab inline"
   ]
  },
  {
   "cell_type": "code",
   "execution_count": 2,
   "metadata": {
    "collapsed": true,
    "deletable": true,
    "editable": true
   },
   "outputs": [],
   "source": [
    "questions = pd.read_csv('Questions.csv')\n",
    "answers = pd.read_csv('Answers.csv')"
   ]
  },
  {
   "cell_type": "code",
   "execution_count": 3,
   "metadata": {
    "collapsed": false,
    "deletable": true,
    "editable": true
   },
   "outputs": [
    {
     "data": {
      "text/plain": [
       "array(['Id', 'PostTypeId', 'AcceptedAnswerId', 'CreationDate', 'Score',\n",
       "       'ViewCount', 'Body', 'OwnerUserId', 'OwnerDisplayName',\n",
       "       'LastEditorUserId', 'LastEditDate', 'LastActivityDate', 'Title',\n",
       "       'Tags', 'AnswerCount', 'CommentCount', 'FavoriteCount',\n",
       "       'ClosedDate'], dtype=object)"
      ]
     },
     "execution_count": 3,
     "metadata": {},
     "output_type": "execute_result"
    }
   ],
   "source": [
    "questions.columns.values"
   ]
  },
  {
   "cell_type": "code",
   "execution_count": 4,
   "metadata": {
    "collapsed": false,
    "deletable": true,
    "editable": true
   },
   "outputs": [
    {
     "data": {
      "text/plain": [
       "array(['Id', 'PostTypeId', 'ParentId', 'CreationDate', 'Score', 'Body',\n",
       "       'OwnerUserId', 'OwnerDisplayName', 'LastEditorUserId',\n",
       "       'LastEditorDisplayName', 'LastEditDate', 'LastActivityDate',\n",
       "       'CommentCount'], dtype=object)"
      ]
     },
     "execution_count": 4,
     "metadata": {},
     "output_type": "execute_result"
    }
   ],
   "source": [
    "answers.columns.values"
   ]
  },
  {
   "cell_type": "markdown",
   "metadata": {
    "deletable": true,
    "editable": true
   },
   "source": [
    "### Combine questions and their *accepted* answers into one DataFrame\n",
    "\n",
    "The questions table has an AcceptedAnswerId column, and the answers table has an Id column."
   ]
  },
  {
   "cell_type": "code",
   "execution_count": 5,
   "metadata": {
    "collapsed": true,
    "deletable": true,
    "editable": true
   },
   "outputs": [],
   "source": [
    "QA = questions.merge(answers,\n",
    "                     left_on='AcceptedAnswerId',\n",
    "                     right_on='Id',\n",
    "                     suffixes=['_questions', '_answers'])"
   ]
  },
  {
   "cell_type": "markdown",
   "metadata": {
    "deletable": true,
    "editable": true
   },
   "source": [
    "### How many questions don't have a valid accepted answer?"
   ]
  },
  {
   "cell_type": "code",
   "execution_count": 6,
   "metadata": {
    "collapsed": false,
    "deletable": true,
    "editable": true
   },
   "outputs": [
    {
     "data": {
      "text/plain": [
       "296"
      ]
     },
     "execution_count": 6,
     "metadata": {},
     "output_type": "execute_result"
    }
   ],
   "source": [
    "# Each question with a valid AcceptedAnswerId shows up once in QA\n",
    "len(questions) - len(QA)"
   ]
  },
  {
   "cell_type": "code",
   "execution_count": 7,
   "metadata": {
    "collapsed": false,
    "deletable": true,
    "editable": true
   },
   "outputs": [
    {
     "data": {
      "text/plain": [
       "296"
      ]
     },
     "execution_count": 7,
     "metadata": {},
     "output_type": "execute_result"
    }
   ],
   "source": [
    "# Alternatively, look for questions whose AcceptedAnswerId is NaN\n",
    "len(questions[questions['AcceptedAnswerId'].isnull()])"
   ]
  },
  {
   "cell_type": "markdown",
   "metadata": {
    "deletable": true,
    "editable": true
   },
   "source": [
    "### How many times did a question asker answer his/her own question? (!)"
   ]
  },
  {
   "cell_type": "code",
   "execution_count": 8,
   "metadata": {
    "collapsed": false,
    "deletable": true,
    "editable": true
   },
   "outputs": [
    {
     "data": {
      "text/plain": [
       "31"
      ]
     },
     "execution_count": 8,
     "metadata": {},
     "output_type": "execute_result"
    }
   ],
   "source": [
    "len(QA[QA['OwnerUserId_questions'] == QA['OwnerUserId_answers']])"
   ]
  },
  {
   "cell_type": "markdown",
   "metadata": {
    "deletable": true,
    "editable": true
   },
   "source": [
    "### Among questions, does increasing ViewCount and increasing AnswerCount correlate with higher Score?\n",
    "\n",
    "* Split ViewCount into 4 equal-sized groups named \"Low\", \"Medium\", \"High\", and \"Very high\"\n",
    "* Create a new column in questions called ViewCountQuartile containing the ViewCount group for each question\n",
    "    * For example, the first question has ViewCount 74 and ViewCountQuartile \"Medium\"\n",
    "* Split the questions by ViewCountQuartile and AnswerCount, and compute the average Score of questions that fall into each (ViewCountQuartile, AnswerCount) bucket.\n",
    "    * For example, questions that have ViewCountQuartile=\"View High\" and AnswerCount=7.0 have an average Score of 10.0\n",
    "* Visually check if increasing ViewCount and increasing AnswerCount are related to higher average Scores."
   ]
  },
  {
   "cell_type": "code",
   "execution_count": 9,
   "metadata": {
    "collapsed": true,
    "deletable": true,
    "editable": true
   },
   "outputs": [],
   "source": [
    "questions['ViewCountQuartile'] = pd.qcut(questions['ViewCount'],\n",
    "                                         4,\n",
    "                                         labels=['Low', 'Medium', 'High', 'Very High'])"
   ]
  },
  {
   "cell_type": "code",
   "execution_count": 10,
   "metadata": {
    "collapsed": false,
    "deletable": true,
    "editable": true
   },
   "outputs": [
    {
     "data": {
      "text/plain": [
       "ViewCount                74\n",
       "ViewCountQuartile    Medium\n",
       "Name: 0, dtype: object"
      ]
     },
     "execution_count": 10,
     "metadata": {},
     "output_type": "execute_result"
    }
   ],
   "source": [
    "questions[['ViewCount', 'ViewCountQuartile']].iloc[0]"
   ]
  },
  {
   "cell_type": "code",
   "execution_count": 11,
   "metadata": {
    "collapsed": false,
    "deletable": true,
    "editable": true
   },
   "outputs": [
    {
     "data": {
      "text/html": [
       "<div>\n",
       "<style scoped>\n",
       "    .dataframe tbody tr th:only-of-type {\n",
       "        vertical-align: middle;\n",
       "    }\n",
       "\n",
       "    .dataframe tbody tr th {\n",
       "        vertical-align: top;\n",
       "    }\n",
       "\n",
       "    .dataframe thead th {\n",
       "        text-align: right;\n",
       "    }\n",
       "</style>\n",
       "<table border=\"1\" class=\"dataframe\">\n",
       "  <thead>\n",
       "    <tr style=\"text-align: right;\">\n",
       "      <th>AnswerCount</th>\n",
       "      <th>0.0</th>\n",
       "      <th>1.0</th>\n",
       "      <th>2.0</th>\n",
       "      <th>3.0</th>\n",
       "      <th>4.0</th>\n",
       "      <th>5.0</th>\n",
       "      <th>6.0</th>\n",
       "      <th>7.0</th>\n",
       "    </tr>\n",
       "    <tr>\n",
       "      <th>ViewCountQuartile</th>\n",
       "      <th></th>\n",
       "      <th></th>\n",
       "      <th></th>\n",
       "      <th></th>\n",
       "      <th></th>\n",
       "      <th></th>\n",
       "      <th></th>\n",
       "      <th></th>\n",
       "    </tr>\n",
       "  </thead>\n",
       "  <tbody>\n",
       "    <tr>\n",
       "      <th>Low</th>\n",
       "      <td>NaN</td>\n",
       "      <td>1.006536</td>\n",
       "      <td>1.255319</td>\n",
       "      <td>0.500000</td>\n",
       "      <td>NaN</td>\n",
       "      <td>NaN</td>\n",
       "      <td>NaN</td>\n",
       "      <td>NaN</td>\n",
       "    </tr>\n",
       "    <tr>\n",
       "      <th>Medium</th>\n",
       "      <td>0.0</td>\n",
       "      <td>1.298701</td>\n",
       "      <td>1.383333</td>\n",
       "      <td>1.533333</td>\n",
       "      <td>1.500000</td>\n",
       "      <td>NaN</td>\n",
       "      <td>NaN</td>\n",
       "      <td>NaN</td>\n",
       "    </tr>\n",
       "    <tr>\n",
       "      <th>High</th>\n",
       "      <td>NaN</td>\n",
       "      <td>1.482270</td>\n",
       "      <td>1.205882</td>\n",
       "      <td>1.571429</td>\n",
       "      <td>1.000000</td>\n",
       "      <td>1.5</td>\n",
       "      <td>NaN</td>\n",
       "      <td>NaN</td>\n",
       "    </tr>\n",
       "    <tr>\n",
       "      <th>Very High</th>\n",
       "      <td>NaN</td>\n",
       "      <td>2.366412</td>\n",
       "      <td>2.805556</td>\n",
       "      <td>4.400000</td>\n",
       "      <td>4.818182</td>\n",
       "      <td>3.0</td>\n",
       "      <td>4.0</td>\n",
       "      <td>10.0</td>\n",
       "    </tr>\n",
       "  </tbody>\n",
       "</table>\n",
       "</div>"
      ],
      "text/plain": [
       "AnswerCount        0.0       1.0       2.0       3.0       4.0  5.0  6.0   7.0\n",
       "ViewCountQuartile                                                             \n",
       "Low                NaN  1.006536  1.255319  0.500000       NaN  NaN  NaN   NaN\n",
       "Medium             0.0  1.298701  1.383333  1.533333  1.500000  NaN  NaN   NaN\n",
       "High               NaN  1.482270  1.205882  1.571429  1.000000  1.5  NaN   NaN\n",
       "Very High          NaN  2.366412  2.805556  4.400000  4.818182  3.0  4.0  10.0"
      ]
     },
     "execution_count": 11,
     "metadata": {},
     "output_type": "execute_result"
    }
   ],
   "source": [
    "pd.pivot_table(questions,\n",
    "               index='ViewCountQuartile',\n",
    "               columns='AnswerCount',\n",
    "               values='Score',\n",
    "               aggfunc=mean)"
   ]
  },
  {
   "cell_type": "markdown",
   "metadata": {
    "deletable": true,
    "editable": true
   },
   "source": [
    "### Generate a plot like the one below\n",
    "\n",
    "![Num words in question title](NumWords.png)\n",
    "\n",
    "(Note: Consider *all* questions, not just the ones with a valid AcceptedAnswerId.)"
   ]
  },
  {
   "cell_type": "code",
   "execution_count": 12,
   "metadata": {
    "collapsed": false,
    "deletable": true,
    "editable": true
   },
   "outputs": [
    {
     "data": {
      "text/plain": [
       "Text(0, 0.5, 'Number of questions')"
      ]
     },
     "execution_count": 12,
     "metadata": {},
     "output_type": "execute_result"
    },
    {
     "data": {
      "image/png": "[encoded data removed]",
      "text/plain": [
       "<Figure size 432x288 with 1 Axes>"
      ]
     },
     "metadata": {
      "needs_background": "light"
     },
     "output_type": "display_data"
    }
   ],
   "source": [
    "def num_words(s):\n",
    "    return len(s.split())\n",
    "questions['Title'].map(num_words).value_counts().plot(kind='bar')\n",
    "xlabel('Number of words in question title')\n",
    "ylabel('Number of questions')\n",
    "#savefig('NumWords.png')"
   ]
  }
 ],
 "metadata": {
  "kernelspec": {
   "display_name": "Python 2",
   "language": "python",
   "name": "python2"
  },
  "language_info": {
   "codemirror_mode": {
    "name": "ipython",
    "version": 2
   },
   "file_extension": ".py",
   "mimetype": "text/x-python",
   "name": "python",
   "nbconvert_exporter": "python",
   "pygments_lexer": "ipython2",
   "version": "2.7.13"
  }
 },
 "nbformat": 4,
 "nbformat_minor": 2
}
