{
 "cells": [
  {
   "cell_type": "code",
   "execution_count": 1,
   "metadata": {
    "collapsed": false,
    "deletable": true,
    "editable": true
   },
   "outputs": [
    {
     "name": "stdout",
     "output_type": "stream",
     "text": [
      "Populating the interactive namespace from numpy and matplotlib\n"
     ]
    }
   ],
   "source": [
    "from pandas import Series, DataFrame\n",
    "import pandas as pd\n",
    "%pylab inline"
   ]
  },
  {
   "cell_type": "code",
   "execution_count": 2,
   "metadata": {
    "collapsed": true,
    "deletable": true,
    "editable": true
   },
   "outputs": [],
   "source": [
    "questions = pd.read_csv('Questions.csv')\n",
    "answers = pd.read_csv('Answers.csv')"
   ]
  },
  {
   "cell_type": "markdown",
   "metadata": {
    "deletable": true,
    "editable": true
   },
   "source": [
    "### Check if the AnswerCount is correct\n",
    "\n",
    "Each answer has a ParentId, which refers to the Id of the question to which it is an answer.\n",
    "Use this to compute the number of answers for each question.\n",
    "Try to print instances where the number of answers computed this way is different from AnswerCount."
   ]
  },
  {
   "cell_type": "code",
   "execution_count": 4,
   "metadata": {
    "collapsed": false,
    "deletable": true,
    "editable": true
   },
   "outputs": [
    {
     "data": {
      "text/plain": [
       "Series([], dtype: float64)"
      ]
     },
     "execution_count": 4,
     "metadata": {},
     "output_type": "execute_result"
    }
   ],
   "source": [
    "QA = questions.merge(answers,\n",
    "                    left_on='Id',\n",
    "                    right_on='ParentId',\n",
    "                    suffixes=['_q','_a'])\n",
    "\n",
    "vc = QA['Id_q'].value_counts() #Compute the number of answers for each question\n",
    "vc2 = QA[['Id_q','AnswerCount']].set_index('Id_q')['AnswerCount']\n",
    "z= vc-vc2 #two Series' values 相减\n",
    "z[z>0] #Series's values > 0\n"
   ]
  },
  {
   "cell_type": "markdown",
   "metadata": {
    "deletable": true,
    "editable": true
   },
   "source": [
    "### How many instances are there of a question having an acceptedAnswer whose Score is lower than the Score of another answer for that question?"
   ]
  },
  {
   "cell_type": "code",
   "execution_count": 7,
   "metadata": {
    "collapsed": false,
    "deletable": true,
    "editable": true
   },
   "outputs": [],
   "source": [
    "#QA.columns.values"
   ]
  },
  {
   "cell_type": "code",
   "execution_count": 34,
   "metadata": {
    "collapsed": false,
    "deletable": true,
    "editable": true
   },
   "outputs": [
    {
     "data": {
      "text/plain": [
       "array(['Id_q', 'PostTypeId_q', 'AcceptedAnswerId', 'CreationDate_q',\n",
       "       'Score_q', 'ViewCount', 'Body_q', 'OwnerUserId_q',\n",
       "       'OwnerDisplayName_q', 'LastEditorUserId_q', 'LastEditDate_q',\n",
       "       'LastActivityDate_q', 'Title', 'Tags', 'AnswerCount',\n",
       "       'CommentCount_q', 'FavoriteCount', 'ClosedDate', 'Id_a',\n",
       "       'PostTypeId_a', 'ParentId', 'CreationDate_a', 'Score_a_orig',\n",
       "       'Body_a', 'OwnerUserId_a', 'OwnerDisplayName_a',\n",
       "       'LastEditorUserId_a', 'LastEditorDisplayName', 'LastEditDate_a',\n",
       "       'LastActivityDate_a', 'CommentCount_a', 'Score_a_accepted'], dtype=object)"
      ]
     },
     "execution_count": 34,
     "metadata": {},
     "output_type": "execute_result"
    }
   ],
   "source": [
    "accept_answer = QA[QA['Id_a'] == QA['AcceptedAnswerId']][['Id_q','Score_a']]\n",
    "QA2 = QA.merge(accept_answer,\n",
    "              left_on='Id_q',\n",
    "              right_on='Id_q',\n",
    "              suffixes=['_orig','_accepted'])\n",
    "QA2.columns.values"
   ]
  },
  {
   "cell_type": "code",
   "execution_count": 40,
   "metadata": {
    "collapsed": false,
    "deletable": true,
    "editable": true
   },
   "outputs": [
    {
     "data": {
      "text/plain": [
       "39"
      ]
     },
     "execution_count": 40,
     "metadata": {},
     "output_type": "execute_result"
    }
   ],
   "source": [
    "z = QA2[QA2['Score_a_orig']>QA2['Score_a_accepted']].drop_duplicates(subset='Id_q')\n",
    "len(z)"
   ]
  },
  {
   "cell_type": "code",
   "execution_count": null,
   "metadata": {
    "collapsed": true,
    "deletable": true,
    "editable": true
   },
   "outputs": [],
   "source": []
  }
 ],
 "metadata": {
  "kernelspec": {
   "display_name": "Python 2",
   "language": "python",
   "name": "python2"
  },
  "language_info": {
   "codemirror_mode": {
    "name": "ipython",
    "version": 2
   },
   "file_extension": ".py",
   "mimetype": "text/x-python",
   "name": "python",
   "nbconvert_exporter": "python",
   "pygments_lexer": "ipython2",
   "version": "2.7.13"
  }
 },
 "nbformat": 4,
 "nbformat_minor": 2
}
