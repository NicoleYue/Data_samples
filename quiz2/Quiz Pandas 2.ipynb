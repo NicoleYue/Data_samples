{
 "cells": [
  {
   "cell_type": "code",
   "execution_count": 2,
   "metadata": {
    "collapsed": false,
    "deletable": true,
    "editable": true
   },
   "outputs": [
    {
     "name": "stdout",
     "output_type": "stream",
     "text": [
      "Populating the interactive namespace from numpy and matplotlib\n"
     ]
    }
   ],
   "source": [
    "from pandas import Series, DataFrame\n",
    "import pandas as pd\n",
    "%pylab inline"
   ]
  },
  {
   "cell_type": "markdown",
   "metadata": {
    "deletable": true,
    "editable": true
   },
   "source": [
    "### Read in pizza.csv and print the first row."
   ]
  },
  {
   "cell_type": "code",
   "execution_count": 3,
   "metadata": {
    "collapsed": false,
    "deletable": true,
    "editable": true
   },
   "outputs": [
    {
     "data": {
      "text/plain": [
       "id                                                 AVwc_6KEIN2L1WUfrKAH\n",
       "address                         Cascade Village Mall Across From Target\n",
       "categories                                                  Pizza Place\n",
       "city                                                               Bend\n",
       "country                                                              US\n",
       "keys                  us/or/bend/cascadevillagemallacrossfromtarget/...\n",
       "latitude                                                        44.1027\n",
       "longitude                                                      -121.301\n",
       "menuPageURL                                                         NaN\n",
       "menus.amountMax                                                    22.5\n",
       "menus.amountMin                                                    15.5\n",
       "menus.currency                                                      USD\n",
       "menus.dateSeen                                     2016-03-31T02:19:42Z\n",
       "menus.description                                                   NaN\n",
       "menus.name                                                 Bianca Pizza\n",
       "name                                              Little Pizza Paradise\n",
       "postalCode                                                        97701\n",
       "priceRangeCurrency                                                  NaN\n",
       "priceRangeMin                                                       NaN\n",
       "priceRangeMax                                                       NaN\n",
       "province                                                             OR\n",
       "Name: 0, dtype: object"
      ]
     },
     "execution_count": 3,
     "metadata": {},
     "output_type": "execute_result"
    }
   ],
   "source": [
    "orig_data = pd.read_csv('C:/Users/annab/OneDrive/Desktop/MIS/quiz2/pizza.csv')\n",
    "#file = open('C:/Users/annab/OneDrive/Desktop/MIS/quiz2/pizza.csv', 'r')\n",
    "orig_data.iloc[0]"
   ]
  },
  {
   "cell_type": "markdown",
   "metadata": {
    "deletable": true,
    "editable": true
   },
   "source": [
    "### Plot the top 10 most common pizzas.\n",
    "Look at *menus.name*."
   ]
  },
  {
   "cell_type": "code",
   "execution_count": 15,
   "metadata": {
    "collapsed": false,
    "deletable": true,
    "editable": true
   },
   "outputs": [
    {
     "data": {
      "image/png": "[encoded data removed]",
      "text/plain": [
       "<matplotlib.figure.Figure at 0xa55d8d0>"
      ]
     },
     "metadata": {},
     "output_type": "display_data"
    }
   ],
   "source": [
    "pizzas_count = orig_data['menus.name'].value_counts()[:10].plot(kind='bar')"
   ]
  },
  {
   "cell_type": "markdown",
   "metadata": {
    "deletable": true,
    "editable": true
   },
   "source": [
    "### Plot the top 10 cities with the most pizza items. ***\n",
    "The x-axis should be the city, and the y-axis the number of menu items that show up in this city (i.e., the number of rows corresponding to this city)."
   ]
  },
  {
   "cell_type": "code",
   "execution_count": 20,
   "metadata": {
    "collapsed": false,
    "deletable": true,
    "editable": true
   },
   "outputs": [
    {
     "data": {
      "image/png": "[encoded data removed]",
      "text/plain": [
       "<matplotlib.figure.Figure at 0xb7e8400>"
      ]
     },
     "metadata": {},
     "output_type": "display_data"
    }
   ],
   "source": [
    "pizzas_count = orig_data['city'].value_counts()[:10].plot(kind='bar')"
   ]
  },
  {
   "cell_type": "markdown",
   "metadata": {
    "deletable": true,
    "editable": true
   },
   "source": [
    "### Find the cheapest pizza (anywhere!)\n",
    "\n",
    "Look at the *menus.amountMin* field, but ignore rows where *menus.amountMin = 0* (because there's no such thing as a free pizza; it's probably just missing data)."
   ]
  },
  {
   "cell_type": "code",
   "execution_count": 23,
   "metadata": {
    "collapsed": false
   },
   "outputs": [
    {
     "name": "stdout",
     "output_type": "stream",
     "text": [
      "('Cheese Pizza', 0.25)\n"
     ]
    }
   ],
   "source": [
    "orig_data[orig_data['menus.amountMin']!=0]['menus.amountMin'].sort_values()[:1].index\n",
    "name = orig_data.loc[2773]['menus.name']\n",
    "amountmin = orig_data.loc[2773]['menus.amountMin']\n",
    "print(name,amountmin)"
   ]
  },
  {
   "cell_type": "code",
   "execution_count": 30,
   "metadata": {
    "collapsed": false,
    "deletable": true,
    "editable": true
   },
   "outputs": [
    {
     "data": {
      "text/plain": [
       "0.25"
      ]
     },
     "execution_count": 30,
     "metadata": {},
     "output_type": "execute_result"
    }
   ],
   "source": [
    "#option 1\n",
    "orig_data[orig_data['menus.amountMin']>0]['menus.amountMin'].min()\n",
    "\n",
    "#option 2\n",
    "mask = orig_data['menus.amountMin'] >0\n",
    "orig_data[mask]['menus.amountMin'].min()\n",
    "\n",
    "#option 3\n",
    "mask = orig_data['menus.amountMin'] >0\n",
    "orig_data[mask].sort_values('menus.amountMin').iloc[0]['menus.amountMin']"
   ]
  },
  {
   "cell_type": "markdown",
   "metadata": {
    "deletable": true,
    "editable": true
   },
   "source": [
    "### Find the top 10 restaurants (or chains) with the biggest menus (i.e., they serve the most distinct pizzas).\n",
    "\n",
    "A restaurant or a chain has a *name*, and serves a pizza of type *menus.name*. You want to count the number of unique *menus.name* for each *name*, and pick the top 10 *names* with the most menu options.\n",
    "\n",
    "Note: You may see multiple rows where **name = Sicilia's Pizza** (say) and **menus.name = Cheese Pizza**. This probably means Sicilia's pizza is a chain. We **don't** want to count Cheese Pizza twice when counting the menu size for Sicilia's Pizza."
   ]
  },
  {
   "cell_type": "code",
   "execution_count": 25,
   "metadata": {
    "collapsed": false
   },
   "outputs": [
    {
     "data": {
      "text/plain": [
       "array(['id', 'address', 'categories', 'city', 'country', 'keys',\n",
       "       'latitude', 'longitude', 'menuPageURL', 'menus.amountMax',\n",
       "       'menus.amountMin', 'menus.currency', 'menus.dateSeen',\n",
       "       'menus.description', 'menus.name', 'name', 'postalCode',\n",
       "       'priceRangeCurrency', 'priceRangeMin', 'priceRangeMax', 'province'], dtype=object)"
      ]
     },
     "execution_count": 25,
     "metadata": {},
     "output_type": "execute_result"
    }
   ],
   "source": [
    "orig_data.columns.values"
   ]
  },
  {
   "cell_type": "code",
   "execution_count": 34,
   "metadata": {
    "collapsed": false,
    "deletable": true,
    "editable": true
   },
   "outputs": [
    {
     "data": {
      "image/png": "[encoded data removed]",
      "text/plain": [
       "<matplotlib.figure.Figure at 0xbe10a90>"
      ]
     },
     "metadata": {},
     "output_type": "display_data"
    }
   ],
   "source": [
    "clean_data = orig_data[['name','menus.name']].drop_duplicates()['name'].value_counts()[:10].plot(kind='bar')"
   ]
  },
  {
   "cell_type": "code",
   "execution_count": null,
   "metadata": {
    "collapsed": true,
    "deletable": true,
    "editable": true
   },
   "outputs": [],
   "source": []
  }
 ],
 "metadata": {
  "kernelspec": {
   "display_name": "Python 2",
   "language": "python",
   "name": "python2"
  },
  "language_info": {
   "codemirror_mode": {
    "name": "ipython",
    "version": 2
   },
   "file_extension": ".py",
   "mimetype": "text/x-python",
   "name": "python",
   "nbconvert_exporter": "python",
   "pygments_lexer": "ipython2",
   "version": "2.7.13"
  }
 },
 "nbformat": 4,
 "nbformat_minor": 2
}
